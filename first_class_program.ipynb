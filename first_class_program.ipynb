{
  "nbformat": 4,
  "nbformat_minor": 0,
  "metadata": {
    "colab": {
      "provenance": [],
      "authorship_tag": "ABX9TyO/8yPKgkxPdekCbk/7Xxt2",
      "include_colab_link": true
    },
    "kernelspec": {
      "name": "python3",
      "display_name": "Python 3"
    },
    "language_info": {
      "name": "python"
    }
  },
  "cells": [
    {
      "cell_type": "markdown",
      "metadata": {
        "id": "view-in-github",
        "colab_type": "text"
      },
      "source": [
        "<a href=\"https://colab.research.google.com/github/rafinkhanmsc/rafinkhan/blob/main/first_class_program.ipynb\" target=\"_parent\"><img src=\"https://colab.research.google.com/assets/colab-badge.svg\" alt=\"Open In Colab\"/></a>"
      ]
    },
    {
      "cell_type": "markdown",
      "source": [
        "## **Data types**"
      ],
      "metadata": {
        "id": "C5CiL01BElkC"
      }
    },
    {
      "cell_type": "markdown",
      "source": [
        "## **Basic Variable**"
      ],
      "metadata": {
        "id": "wHhzIH4bL8T8"
      }
    },
    {
      "cell_type": "code",
      "execution_count": null,
      "metadata": {
        "colab": {
          "base_uri": "https://localhost:8080/"
        },
        "id": "v5cU-zpQuvWe",
        "outputId": "da55d032-3bb5-47e0-ba20-adc33b0796be"
      },
      "outputs": [
        {
          "output_type": "stream",
          "name": "stdout",
          "text": [
            "Name =  Rafin khan\n",
            "Age =  26\n",
            "Color =  Royal Blue\n",
            "Skin color Dark =  False\n"
          ]
        }
      ],
      "source": [
        "#creating variable\n",
        "name = \"Rafin khan\"\n",
        "age = 26\n",
        "color = \"Royal Blue\"\n",
        "rafin_skin_color_Dark = False\n",
        "\n",
        "#printing variables\n",
        "\n",
        "print(\"Name = \",name)\n",
        "print(\"Age = \",age)\n",
        "print(\"Color = \", color)\n",
        "print(\"Skin color Dark = \",rafin_skin_color_Dark)"
      ]
    },
    {
      "cell_type": "markdown",
      "source": [
        "## **Data Types in details**"
      ],
      "metadata": {
        "id": "25DqVGSSMFlu"
      }
    },
    {
      "cell_type": "code",
      "source": [
        "## String\n",
        "\n",
        "name = \"Tasin\"\n",
        "sur_name = 'Ahmed'\n",
        "\n",
        "print(\"Full name = \",name,sur_name)\n",
        "\n",
        "#Number\n",
        "\n",
        "age = 26\n",
        "height = 5.5\n",
        "\n",
        "print(\"Age = \",age) # integer num\n",
        "print(\"Height = \", height) # float num\n",
        "\n",
        "#Boolean\n",
        "height__feet =\n"
      ],
      "metadata": {
        "colab": {
          "base_uri": "https://localhost:8080/"
        },
        "id": "-S4PXRUKJU2D",
        "outputId": "75c11787-fec7-43bc-e293-755abc0fb20c"
      },
      "execution_count": null,
      "outputs": [
        {
          "output_type": "stream",
          "name": "stdout",
          "text": [
            "Full name =  Tasin Ahmed\n",
            "Age =  26\n",
            "Height =  5.5\n"
          ]
        }
      ]
    },
    {
      "cell_type": "code",
      "source": [
        "name = \"Rafin\"\n",
        "age = 26\n",
        "rafin_skin_color_Dark = False\n",
        "divi = 53/2\n",
        "print(type(name))\n",
        "print(type(age))\n",
        "print(type(divi))\n",
        "print(type(rafin_skin_color_Dark))"
      ],
      "metadata": {
        "colab": {
          "base_uri": "https://localhost:8080/"
        },
        "id": "zlBly_3Cb5L8",
        "outputId": "4a1ce0ee-10c5-4f8d-c670-5545a66f49cc"
      },
      "execution_count": null,
      "outputs": [
        {
          "output_type": "stream",
          "name": "stdout",
          "text": [
            "<class 'str'>\n",
            "<class 'int'>\n",
            "<class 'float'>\n",
            "<class 'bool'>\n"
          ]
        }
      ]
    },
    {
      "cell_type": "code",
      "source": [
        "a = 10\n",
        "b = 3\n",
        "print(a+b)\n",
        "print(a-b)\n",
        "print(a*b)\n",
        "print(a/b)\n",
        "print(a//b)\n",
        "print(a%b)\n",
        "print(a**b)"
      ],
      "metadata": {
        "colab": {
          "base_uri": "https://localhost:8080/"
        },
        "id": "LiucuxVgeKOQ",
        "outputId": "13514f90-4e26-4697-887f-19eda4f0f34c"
      },
      "execution_count": null,
      "outputs": [
        {
          "output_type": "stream",
          "name": "stdout",
          "text": [
            "13\n",
            "7\n",
            "30\n",
            "3.3333333333333335\n",
            "3\n",
            "1\n",
            "1000\n"
          ]
        }
      ]
    },
    {
      "cell_type": "code",
      "source": [
        "frist_name = \"Rafin\"\n",
        "last_name = \"Khan\"\n",
        "full_name = frist_name +\" \"+last_name\n",
        "print(full_name)\n",
        "#Repeated\n",
        "reapeted = full_name * 3\n",
        "print(repeated)\n",
        "\n",
        "#Length\n",
        "print(len(full_name))"
      ],
      "metadata": {
        "colab": {
          "base_uri": "https://localhost:8080/"
        },
        "id": "czZ1rvGgf87S",
        "outputId": "3cc9c93c-957f-4dad-f08d-f2cb0a9c89d3"
      },
      "execution_count": null,
      "outputs": [
        {
          "output_type": "stream",
          "name": "stdout",
          "text": [
            "Rafin Khan\n",
            "Rafin KhanRafin KhanRafin Khan\n",
            "10\n"
          ]
        }
      ]
    },
    {
      "cell_type": "code",
      "source": [
        "#Area\n",
        "len = 7\n",
        "wid = 5\n",
        "area = len * wid\n",
        "print(\"Area: \", area)\n",
        "\n",
        "#Perimeter\n",
        "peri = 0.5*(len+wid)\n",
        "print(peri)"
      ],
      "metadata": {
        "colab": {
          "base_uri": "https://localhost:8080/"
        },
        "id": "VcISqZFqMV6-",
        "outputId": "7770fcd3-f390-441e-f1bf-f30ea231bca3"
      },
      "execution_count": null,
      "outputs": [
        {
          "output_type": "stream",
          "name": "stdout",
          "text": [
            "Area:  35\n",
            "6.0\n"
          ]
        }
      ]
    },
    {
      "cell_type": "code",
      "source": [
        "#Creating a list\n",
        "fruits = [\"apple\", \"banana\",\"mango\",\"leman\"]\n",
        "\n",
        "#Accessing elements\n",
        "print(fruits[3])\n",
        "\n",
        "#Negative elements\n",
        "print(fruits[-2])\n",
        "\n",
        "#slicing list\n",
        "print(fruits[1:3])\n",
        "\n",
        "#Changing elements\n",
        "fruits[1]= \"grape\"\n",
        "print(fruits)"
      ],
      "metadata": {
        "colab": {
          "base_uri": "https://localhost:8080/"
        },
        "id": "TzW6YpCjLPaO",
        "outputId": "21cc7feb-d675-40cf-bf4b-2860ddc7886e"
      },
      "execution_count": null,
      "outputs": [
        {
          "output_type": "stream",
          "name": "stdout",
          "text": [
            "leman\n",
            "mango\n",
            "['banana', 'mango']\n",
            "['apple', 'grape', 'mango', 'leman']\n"
          ]
        }
      ]
    },
    {
      "cell_type": "code",
      "source": [
        "#bangladeshi food\n",
        "\n",
        "food_list = [\"vat\", \"mach\",\"dal\",\"murgi\",\"alu vorta\"]\n",
        "\n",
        "#Accessing element\n",
        "print(food_list[0])\n",
        "\n",
        "#Negative element\n",
        "print(food_list[-2])\n",
        "\n",
        "#slicing list\n",
        "print(food_list[1:3])"
      ],
      "metadata": {
        "colab": {
          "base_uri": "https://localhost:8080/"
        },
        "id": "0SZbRkhNSmh-",
        "outputId": "48415722-6ebd-441d-ed58-51e826443159"
      },
      "execution_count": null,
      "outputs": [
        {
          "output_type": "stream",
          "name": "stdout",
          "text": [
            "vat\n",
            "murgi\n",
            "['mach', 'dal']\n"
          ]
        }
      ]
    },
    {
      "cell_type": "code",
      "source": [],
      "metadata": {
        "id": "jY-nX0APSwKt"
      },
      "execution_count": null,
      "outputs": []
    }
  ]
}